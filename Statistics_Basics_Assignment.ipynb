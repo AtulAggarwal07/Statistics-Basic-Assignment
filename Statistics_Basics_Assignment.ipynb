{
  "nbformat": 4,
  "nbformat_minor": 0,
  "metadata": {
    "colab": {
      "provenance": []
    },
    "kernelspec": {
      "name": "python3",
      "display_name": "Python 3"
    },
    "language_info": {
      "name": "python"
    }
  },
  "cells": [
    {
      "cell_type": "markdown",
      "source": [
        "# Statistics Basics"
      ],
      "metadata": {
        "id": "klO0YS3xdkzB"
      }
    },
    {
      "cell_type": "markdown",
      "source": [
        "1. What is statistics, and why is it important?\n",
        "- Answer\n",
        " - Statistics is the science of collecting, analyzing, interpreting, presenting, and organizing data.\n",
        "Importance: It helps in making decisions based on data, identifying patterns, and solving real-world problems in fields like business, medicine, agriculture, education, etc.\n",
        "\n",
        "2. What are the two main types of statistics?\n",
        "- Answer\n",
        " - Descriptive Statistics – Summarizes data (e.g., mean, median, charts).\n",
        " - Inferential Statistics – Makes predictions or decisions based on data samples.\n",
        "\n",
        "3. What are descriptive statistics?\n",
        "- Answer\n",
        " - Descriptive statistics describe or summarize features of a dataset using measures like mean, median, mode, standard deviation, etc.\n",
        "\n",
        "4. What is inferential statistics?\n",
        "- Answer\n",
        " - Inferential statistics use a sample of data to make generalizations, predictions, or decisions about a population.\n",
        "Example: Predicting election results based on survey samples.\n",
        "\n",
        "5. What is sampling in statistics?\n",
        "- Answer\n",
        " - Sampling is the process of selecting a portion (sample) from a larger group (population) to study and draw conclusions about the whole group.\n",
        "\n",
        "6. What are the different types of sampling methods?\n",
        "- Answer\n",
        "\n",
        "Random Sampling – Every item has an equal chance (e.g., lottery).\n",
        "\n",
        "Stratified Sampling – Divide population into groups, then sample.\n",
        "\n",
        "Systematic Sampling – Every nth item is chosen.\n",
        "\n",
        "Cluster Sampling – Entire groups are randomly selected.\n",
        "\n",
        "Convenience Sampling – Easy-to-reach participants are chosen.\n",
        "\n",
        "7. What is the difference between random and non-random sampling?\n",
        "- Answer\n",
        " - Random Sampling: Every member has an equal chance; unbiased.\n",
        " - Non-Random Sampling: Not all members have equal chance; may be biased.\n",
        "\n",
        "8. Define and give examples of qualitative and quantitative data.\n",
        "- Answer\n",
        " - Qualitative Data: Descriptive, non-numeric (e.g., color, gender, type of crop).\n",
        " - Quantitative Data: Numeric values (e.g., height, weight, crop yield).\n",
        "\n",
        "9. What are the different types of data in statistics?\n",
        "- Answer\n",
        "\n",
        "Nominal – Categories (e.g., gender, religion).\n",
        "\n",
        "Ordinal – Ordered categories (e.g., rankings).\n",
        "\n",
        "Interval – Numeric, no true zero (e.g., temperature).\n",
        "\n",
        "Ratio – Numeric, true zero exists (e.g., height, weight).\n",
        "\n",
        "\n",
        "10. Explain nominal, ordinal, interval, and ratio levels of measurement.\n",
        "- Answer\n",
        "\n",
        "Nominal: Names/labels (e.g., city names).\n",
        "\n",
        "Ordinal: Order matters (e.g., class ranks).\n",
        "\n",
        "Interval: Differences matter, but no true zero (e.g., IQ scores).\n",
        "\n",
        "Ratio: Has true zero and equal intervals (e.g., age, salary).\n",
        "\n",
        "11. What is the measure of central tendency?\n",
        "- Answer\n",
        " - It refers to values that represent the center or average of a dataset.\n",
        "Main measures: Mean, Median, Mode.\n",
        "\n",
        "\n",
        "12. Define mean, median, and mode.\n",
        "- Answer\n",
        "\n",
        "Mean: The average (sum ÷ number of values).\n",
        "\n",
        "Median: Middle value when data is ordered.\n",
        "\n",
        "Mode: Most frequent value in the dataset.\n",
        "\n",
        "\n",
        "13. What is the significance of the measure of central tendency?\n",
        "- Answer\n",
        " - It helps understand the general trend or typical value in a dataset, making it easier to compare and analyze data.\n",
        "\n",
        "\n",
        "14. What is variance, and how is it calculated?\n",
        "- Answer\n",
        " - Variance measures how far each value is from the mean.\n",
        "\n",
        "\n",
        "15. What is standard deviation, and why is it important?\n",
        "- Answer\n",
        " - It’s the square root of variance and shows how spread out the data is.\n",
        "Importance: Helps in understanding consistency and risk in data.\n",
        "\n",
        "\n",
        "16. Define and explain the term range in statistics.\n",
        "- Answer\n",
        " - Range = Largest value – Smallest value.\n",
        "It gives a basic idea of data spread.\n",
        "\n",
        "\n",
        "17. What is the difference between variance and standard deviation?\n",
        "- Answer\n",
        " - Variance is the average of squared deviations.\n",
        " - Standard Deviation is the square root of variance – easier to interpret as it's in the same units as the data.\n",
        "\n",
        "\n",
        "18. What is skewness in a dataset?\n",
        "- Answer\n",
        "\n",
        "Skewness shows whether the data is symmetrical or leaning to one side.\n",
        "\n",
        "Positive skew: Tail on the right.\n",
        "\n",
        "Negative skew: Tail on the left.\n",
        "\n",
        "\n",
        "20. Define and explain kurtosis.\n",
        "- Answer\n",
        "\n",
        "Kurtosis tells how peaked or flat a distribution is compared to a normal curve.\n",
        "\n",
        "High kurtosis: Sharp peak.\n",
        "\n",
        "Low kurtosis: Flat distribution.\n",
        "\n",
        "\n",
        "21. What is the purpose of covariance?\n",
        "- Answer\n",
        " - Covariance shows the direction of a relationship between two variables (positive or negative).\n",
        "\n",
        "22. What does correlation measure in statistics?\n",
        "- Answer\n",
        " - Correlation measures strength and direction of a linear relationship between two variables.\n",
        " - Ranges from -1 to +1.\n",
        "\n",
        "23. What is the difference between covariance and correlation?\n",
        "- Answer\n",
        " - Covariance: Tells direction only, no scale.\n",
        " - Correlation: Tells direction and strength, scaled between -1 and +1.\n",
        "\n",
        "24. What are some real-world applications of statistics?\n",
        "- Answer\n",
        " - Weather forecasting\n",
        " - Quality control in factories\n",
        " - Election predictions\n",
        " - Healthcare (disease spread analysis)\n",
        " - Business (market research)\n",
        " - Sports (player performance analysis)\n",
        " - Agriculture (crop yield prediction)\n",
        "\n"
      ],
      "metadata": {
        "id": "lYXkhbh1dth2"
      }
    },
    {
      "cell_type": "code",
      "execution_count": 1,
      "metadata": {
        "colab": {
          "base_uri": "https://localhost:8080/"
        },
        "id": "s_t4dyO3djUk",
        "outputId": "51d9c4ab-1382-4ed1-cd88-660a5ea9f0f7"
      },
      "outputs": [
        {
          "output_type": "stream",
          "name": "stdout",
          "text": [
            "Mean: 24\n",
            "Median: 20\n",
            "Mode: 20\n"
          ]
        }
      ],
      "source": [
        "# 1. How do you calculate the mean, median, and mode of a dataset?\n",
        "import statistics\n",
        "\n",
        "data = [10, 20, 20, 30, 40]\n",
        "mean = statistics.mean(data)\n",
        "median = statistics.median(data)\n",
        "mode = statistics.mode(data)\n",
        "\n",
        "print(\"Mean:\", mean)\n",
        "print(\"Median:\", median)\n",
        "print(\"Mode:\", mode)\n"
      ]
    },
    {
      "cell_type": "code",
      "source": [
        "# 2. Write a Python program to compute the variance and standard deviation of a dataset\n",
        "import statistics\n",
        "\n",
        "data = [10, 20, 30, 40, 50]\n",
        "variance = statistics.variance(data)\n",
        "std_dev = statistics.stdev(data)\n",
        "\n",
        "print(\"Variance:\", variance)\n",
        "print(\"Standard Deviation:\", std_dev)\n"
      ],
      "metadata": {
        "colab": {
          "base_uri": "https://localhost:8080/"
        },
        "id": "-rwpPFQKhSDd",
        "outputId": "fe98e890-bd2c-485e-ea23-8b4951688626"
      },
      "execution_count": 2,
      "outputs": [
        {
          "output_type": "stream",
          "name": "stdout",
          "text": [
            "Variance: 250\n",
            "Standard Deviation: 15.811388300841896\n"
          ]
        }
      ]
    },
    {
      "cell_type": "code",
      "source": [
        "# 3. Create a dataset and classify it into nominal, ordinal, interval, and ratio types\n",
        "dataset = {\n",
        "    \"Nominal\": [\"Red\", \"Blue\", \"Green\"],  # Categories\n",
        "    \"Ordinal\": [\"Small\", \"Medium\", \"Large\"],  # Ordered\n",
        "    \"Interval\": [20, 25, 30],  # No true zero (e.g., temperature)\n",
        "    \"Ratio\": [5, 10, 15, 20]  # Has true zero (e.g., weight, age)\n",
        "}\n",
        "print(dataset)\n"
      ],
      "metadata": {
        "colab": {
          "base_uri": "https://localhost:8080/"
        },
        "id": "ny4iDZFchUyN",
        "outputId": "53314730-b1c9-4660-8a15-7630379a5bf1"
      },
      "execution_count": 3,
      "outputs": [
        {
          "output_type": "stream",
          "name": "stdout",
          "text": [
            "{'Nominal': ['Red', 'Blue', 'Green'], 'Ordinal': ['Small', 'Medium', 'Large'], 'Interval': [20, 25, 30], 'Ratio': [5, 10, 15, 20]}\n"
          ]
        }
      ]
    },
    {
      "cell_type": "code",
      "source": [
        "# 4. Implement sampling techniques like random and stratified sampling\n",
        "import pandas as pd\n",
        "from sklearn.model_selection import train_test_split\n",
        "\n",
        "# Sample dataset\n",
        "data = pd.DataFrame({\n",
        "    'ID': range(1, 11),\n",
        "    'Group': ['A', 'A', 'A', 'B', 'B', 'B', 'C', 'C', 'C', 'C']\n",
        "})\n",
        "\n",
        "# Random Sampling\n",
        "random_sample = data.sample(n=5)\n",
        "\n",
        "# Stratified Sampling\n",
        "stratified_sample, _ = train_test_split(data, test_size=0.5, stratify=data['Group'])\n",
        "\n",
        "print(\"Random Sample:\\n\", random_sample)\n",
        "print(\"Stratified Sample:\\n\", stratified_sample)\n"
      ],
      "metadata": {
        "colab": {
          "base_uri": "https://localhost:8080/"
        },
        "id": "hXuRDUe_hX8p",
        "outputId": "b895cd4d-d75a-466f-fad8-b71d9f61dc5b"
      },
      "execution_count": 4,
      "outputs": [
        {
          "output_type": "stream",
          "name": "stdout",
          "text": [
            "Random Sample:\n",
            "    ID Group\n",
            "5   6     B\n",
            "1   2     A\n",
            "3   4     B\n",
            "4   5     B\n",
            "7   8     C\n",
            "Stratified Sample:\n",
            "    ID Group\n",
            "5   6     B\n",
            "9  10     C\n",
            "0   1     A\n",
            "4   5     B\n",
            "7   8     C\n"
          ]
        }
      ]
    },
    {
      "cell_type": "code",
      "source": [
        "#5. Write a Python function to calculate the range of a dataset\n",
        "def data_range(data):\n",
        "    return max(data) - min(data)\n",
        "\n",
        "data = [5, 10, 15, 20, 25]\n",
        "print(\"Range:\", data_range(data))\n"
      ],
      "metadata": {
        "colab": {
          "base_uri": "https://localhost:8080/"
        },
        "id": "d3QLJTqAhasU",
        "outputId": "ff765cf7-9174-468b-8bdd-0b5eb60c87b6"
      },
      "execution_count": 5,
      "outputs": [
        {
          "output_type": "stream",
          "name": "stdout",
          "text": [
            "Range: 20\n"
          ]
        }
      ]
    },
    {
      "cell_type": "code",
      "source": [
        "# 6. Create a dataset and plot its histogram to visualize skewness\n",
        "import matplotlib.pyplot as plt\n",
        "import numpy as np\n",
        "\n",
        "data = np.random.exponential(scale=2, size=1000)  # Positively skewed\n",
        "\n",
        "plt.hist(data, bins=30)\n",
        "plt.title(\"Histogram showing skewness\")\n",
        "plt.xlabel(\"Value\")\n",
        "plt.ylabel(\"Frequency\")\n",
        "plt.show()\n"
      ],
      "metadata": {
        "colab": {
          "base_uri": "https://localhost:8080/",
          "height": 472
        },
        "id": "Si02AVSKheqq",
        "outputId": "a1815e21-366e-4cec-8c23-7c6814e3a1e1"
      },
      "execution_count": 6,
      "outputs": [
        {
          "output_type": "display_data",
          "data": {
            "text/plain": [
              "<Figure size 640x480 with 1 Axes>"
            ],
            "image/png": "[encoded data removed]"
          },
          "metadata": {}
        }
      ]
    },
    {
      "cell_type": "code",
      "source": [
        "# 7. Calculate skewness and kurtosis of a dataset using Python\n",
        "from scipy.stats import skew, kurtosis\n",
        "import numpy as np\n",
        "\n",
        "data = np.random.normal(loc=0, scale=1, size=1000)\n",
        "\n",
        "print(\"Skewness:\", skew(data))\n",
        "print(\"Kurtosis:\", kurtosis(data))\n"
      ],
      "metadata": {
        "colab": {
          "base_uri": "https://localhost:8080/"
        },
        "id": "W0aFZoDUhia8",
        "outputId": "b40adbeb-fdcd-4da9-8a3b-238e82fae2fe"
      },
      "execution_count": 7,
      "outputs": [
        {
          "output_type": "stream",
          "name": "stdout",
          "text": [
            "Skewness: -0.08412210619693003\n",
            "Kurtosis: 0.06040345156797189\n"
          ]
        }
      ]
    },
    {
      "cell_type": "code",
      "source": [
        "# 8. Generate a dataset and demonstrate positive and negative skewness.\n",
        "import seaborn as sns\n",
        "import matplotlib.pyplot as plt\n",
        "\n",
        "# Positive skew\n",
        "pos_skew = np.random.exponential(size=1000)\n",
        "\n",
        "# Negative skew\n",
        "neg_skew = -np.random.exponential(size=1000)\n",
        "\n",
        "sns.histplot(pos_skew, kde=True, color=\"blue\", label=\"Positive Skew\")\n",
        "sns.histplot(neg_skew, kde=True, color=\"red\", label=\"Negative Skew\")\n",
        "plt.legend()\n",
        "plt.show()\n"
      ],
      "metadata": {
        "colab": {
          "base_uri": "https://localhost:8080/",
          "height": 430
        },
        "id": "ClM6hXhRhl8J",
        "outputId": "7f1046d3-48bd-4ff3-ff2a-68447c3dd066"
      },
      "execution_count": 8,
      "outputs": [
        {
          "output_type": "display_data",
          "data": {
            "text/plain": [
              "<Figure size 640x480 with 1 Axes>"
            ],
            "image/png": "[encoded data removed]"
          },
          "metadata": {}
        }
      ]
    },
    {
      "cell_type": "code",
      "source": [
        "# 9. Write a Python script to calculate covariance between two datasets\n",
        "import numpy as np\n",
        "\n",
        "x = [10, 20, 30, 40]\n",
        "y = [15, 25, 35, 45]\n",
        "\n",
        "cov_matrix = np.cov(x, y)\n",
        "print(\"Covariance matrix:\\n\", cov_matrix)\n",
        "print(\"Covariance:\", cov_matrix[0][1])\n"
      ],
      "metadata": {
        "colab": {
          "base_uri": "https://localhost:8080/"
        },
        "id": "CT0_XzTzhp4b",
        "outputId": "245c3361-5498-4a79-96fd-6ba483d57079"
      },
      "execution_count": 9,
      "outputs": [
        {
          "output_type": "stream",
          "name": "stdout",
          "text": [
            "Covariance matrix:\n",
            " [[166.66666667 166.66666667]\n",
            " [166.66666667 166.66666667]]\n",
            "Covariance: 166.66666666666666\n"
          ]
        }
      ]
    },
    {
      "cell_type": "code",
      "source": [
        "# 10. Write a Python script to calculate the correlation coefficient\n",
        "import numpy as np\n",
        "\n",
        "x = [10, 20, 30, 40]\n",
        "y = [5, 25, 35, 50]\n",
        "\n",
        "correlation = np.corrcoef(x, y)\n",
        "print(\"Correlation matrix:\\n\", correlation)\n",
        "print(\"Correlation Coefficient:\", correlation[0][1])\n"
      ],
      "metadata": {
        "colab": {
          "base_uri": "https://localhost:8080/"
        },
        "id": "fLGW66Trhtbl",
        "outputId": "b47b4ffb-99a9-483d-fc54-9f22d519d1b3"
      },
      "execution_count": 10,
      "outputs": [
        {
          "output_type": "stream",
          "name": "stdout",
          "text": [
            "Correlation matrix:\n",
            " [[1.         0.99177907]\n",
            " [0.99177907 1.        ]]\n",
            "Correlation Coefficient: 0.9917790736823158\n"
          ]
        }
      ]
    },
    {
      "cell_type": "code",
      "source": [
        "# 11. Create a scatter plot to visualize the relationship\n",
        "import matplotlib.pyplot as plt\n",
        "\n",
        "x = [10, 20, 30, 40]\n",
        "y = [5, 25, 35, 50]\n",
        "\n",
        "plt.scatter(x, y)\n",
        "plt.title(\"Scatter Plot\")\n",
        "plt.xlabel(\"X values\")\n",
        "plt.ylabel(\"Y values\")\n",
        "plt.grid(True)\n",
        "plt.show()\n"
      ],
      "metadata": {
        "colab": {
          "base_uri": "https://localhost:8080/",
          "height": 472
        },
        "id": "Fv5jx82qhwBU",
        "outputId": "7830d8e8-4a00-46e2-8ad9-6fa3359e878c"
      },
      "execution_count": 11,
      "outputs": [
        {
          "output_type": "display_data",
          "data": {
            "text/plain": [
              "<Figure size 640x480 with 1 Axes>"
            ],
            "image/png": "[encoded data removed]"
          },
          "metadata": {}
        }
      ]
    },
    {
      "cell_type": "code",
      "source": [
        "# 12. Implement and compare simple random and systematic sampling\n",
        "import numpy as np\n",
        "\n",
        "population = np.arange(1, 101)\n",
        "\n",
        "# Simple Random Sampling\n",
        "random_sample = np.random.choice(population, size=10, replace=False)\n",
        "\n",
        "# Systematic Sampling\n",
        "k = len(population) // 10\n",
        "systematic_sample = population[::k]\n",
        "\n",
        "print(\"Random Sample:\", random_sample)\n",
        "print(\"Systematic Sample:\", systematic_sample)\n"
      ],
      "metadata": {
        "colab": {
          "base_uri": "https://localhost:8080/"
        },
        "id": "fblPjBXlh00c",
        "outputId": "1d54bb2f-775e-4cb3-d1a9-59f0d91c88a2"
      },
      "execution_count": 12,
      "outputs": [
        {
          "output_type": "stream",
          "name": "stdout",
          "text": [
            "Random Sample: [ 9 85 25 84  1 43 55 12 20 51]\n",
            "Systematic Sample: [ 1 11 21 31 41 51 61 71 81 91]\n"
          ]
        }
      ]
    },
    {
      "cell_type": "code",
      "source": [
        "#13. Calculate the mean, median, and mode of grouped data\n",
        "import pandas as pd\n",
        "from statistics import mean, median, mode\n",
        "\n",
        "# Class intervals and frequencies\n",
        "classes = [(0, 10), (10, 20), (20, 30)]\n",
        "frequencies = [5, 8, 7]\n",
        "\n",
        "# Midpoints\n",
        "midpoints = [(a + b) / 2 for a, b in classes]\n",
        "\n",
        "# Expand data\n",
        "data = []\n",
        "for i in range(len(midpoints)):\n",
        "    data += [midpoints[i]] * frequencies[i]\n",
        "\n",
        "print(\"Mean:\", mean(data))\n",
        "print(\"Median:\", median(data))\n",
        "print(\"Mode:\", mode(data))\n"
      ],
      "metadata": {
        "colab": {
          "base_uri": "https://localhost:8080/"
        },
        "id": "zXNAkV19h8-b",
        "outputId": "d100374f-ff78-4761-e714-dda8ad31a6f5"
      },
      "execution_count": 13,
      "outputs": [
        {
          "output_type": "stream",
          "name": "stdout",
          "text": [
            "Mean: 16.0\n",
            "Median: 15.0\n",
            "Mode: 15.0\n"
          ]
        }
      ]
    },
    {
      "cell_type": "code",
      "source": [
        "# 14. Simulate data using Python and calculate its central tendency and dispersion\n",
        "import numpy as np\n",
        "import statistics\n",
        "\n",
        "data = np.random.normal(loc=50, scale=10, size=100)\n",
        "\n",
        "print(\"Mean:\", statistics.mean(data))\n",
        "print(\"Median:\", statistics.median(data))\n",
        "print(\"Mode (approx.):\", round(statistics.mode(np.round(data))))\n",
        "print(\"Variance:\", statistics.variance(data))\n",
        "print(\"Standard Deviation:\", statistics.stdev(data))\n"
      ],
      "metadata": {
        "colab": {
          "base_uri": "https://localhost:8080/"
        },
        "id": "dc3EeXswiAa9",
        "outputId": "c33461e6-e76e-49e2-ffcd-a6da627c1071"
      },
      "execution_count": 14,
      "outputs": [
        {
          "output_type": "stream",
          "name": "stdout",
          "text": [
            "Mean: 47.82393178019444\n",
            "Median: 47.14058224120052\n",
            "Mode (approx.): 47\n",
            "Variance: 95.27118443199807\n",
            "Standard Deviation: 9.760695898961204\n"
          ]
        }
      ]
    },
    {
      "cell_type": "code",
      "source": [
        "# 15. Use NumPy or pandas to summarize a dataset’s descriptive statistics\n",
        "import pandas as pd\n",
        "import numpy as np\n",
        "\n",
        "data = pd.DataFrame({\n",
        "    'Scores': np.random.randint(40, 100, size=20)\n",
        "})\n",
        "\n",
        "print(\"Descriptive Statistics:\\n\", data.describe())\n"
      ],
      "metadata": {
        "colab": {
          "base_uri": "https://localhost:8080/"
        },
        "id": "sBiknko_iEvH",
        "outputId": "ed8615ae-ac3b-4529-feca-55821f7036da"
      },
      "execution_count": 15,
      "outputs": [
        {
          "output_type": "stream",
          "name": "stdout",
          "text": [
            "Descriptive Statistics:\n",
            "           Scores\n",
            "count  20.000000\n",
            "mean   77.150000\n",
            "std    16.915502\n",
            "min    46.000000\n",
            "25%    67.000000\n",
            "50%    79.000000\n",
            "75%    94.000000\n",
            "max    97.000000\n"
          ]
        }
      ]
    },
    {
      "cell_type": "code",
      "source": [
        "# 16. Plot a boxplot to understand the spread and identify outliers\n",
        "import seaborn as sns\n",
        "import matplotlib.pyplot as plt\n",
        "\n",
        "sns.boxplot(x=data['Scores'])\n",
        "plt.title(\"Boxplot of Scores\")\n",
        "plt.show()\n",
        "\n"
      ],
      "metadata": {
        "colab": {
          "base_uri": "https://localhost:8080/",
          "height": 472
        },
        "id": "4HAX3mL2ilnL",
        "outputId": "48813345-e463-4578-e90f-e06b85005bb1"
      },
      "execution_count": 16,
      "outputs": [
        {
          "output_type": "display_data",
          "data": {
            "text/plain": [
              "<Figure size 640x480 with 1 Axes>"
            ],
            "image/png": "[encoded data removed]"
          },
          "metadata": {}
        }
      ]
    },
    {
      "cell_type": "code",
      "source": [
        "# 17. Calculate the interquartile range (IQR) of a dataset\n",
        "Q1 = data['Scores'].quantile(0.25)\n",
        "Q3 = data['Scores'].quantile(0.75)\n",
        "IQR = Q3 - Q1\n",
        "print(\"Interquartile Range (IQR):\", IQR)\n"
      ],
      "metadata": {
        "colab": {
          "base_uri": "https://localhost:8080/"
        },
        "id": "2o-_EkOoiooF",
        "outputId": "9ae58ab4-037c-4db7-f54d-0b401ea95388"
      },
      "execution_count": 17,
      "outputs": [
        {
          "output_type": "stream",
          "name": "stdout",
          "text": [
            "Interquartile Range (IQR): 27.0\n"
          ]
        }
      ]
    },
    {
      "cell_type": "code",
      "source": [
        "# 18. Implement Z-score normalization and explain its significance\n",
        "from scipy.stats import zscore\n",
        "\n",
        "z_scores = zscore(data['Scores'])\n",
        "data['Z-Score'] = z_scores\n",
        "\n",
        "print(data.head())\n"
      ],
      "metadata": {
        "colab": {
          "base_uri": "https://localhost:8080/"
        },
        "id": "0WqgFob3irpQ",
        "outputId": "53398ece-edc5-41bb-b943-681926d3ec1f"
      },
      "execution_count": 18,
      "outputs": [
        {
          "output_type": "stream",
          "name": "stdout",
          "text": [
            "   Scores   Z-Score\n",
            "0      90  0.779393\n",
            "1      54 -1.404120\n",
            "2      97  1.203965\n",
            "3      94  1.022005\n",
            "4      81  0.233515\n"
          ]
        }
      ]
    },
    {
      "cell_type": "code",
      "source": [
        " # 19. Compare two datasets using their standard deviations\n",
        " data1 = np.random.normal(50, 5, 100)\n",
        "data2 = np.random.normal(50, 15, 100)\n",
        "\n",
        "std1 = np.std(data1)\n",
        "std2 = np.std(data2)\n",
        "\n",
        "print(\"Standard Deviation of Dataset 1:\", std1)\n",
        "print(\"Standard Deviation of Dataset 2:\", std2)\n",
        "\n",
        "if std1 > std2:\n",
        "    print(\"Dataset 1 is more spread out\")\n",
        "else:\n",
        "    print(\"Dataset 2 is more spread out\")\n"
      ],
      "metadata": {
        "colab": {
          "base_uri": "https://localhost:8080/"
        },
        "id": "-34hEJCUiuX1",
        "outputId": "59db3771-6c17-4e9f-e30b-c6476fdc59e7"
      },
      "execution_count": 19,
      "outputs": [
        {
          "output_type": "stream",
          "name": "stdout",
          "text": [
            "Standard Deviation of Dataset 1: 4.6133844082179785\n",
            "Standard Deviation of Dataset 2: 12.46230009776134\n",
            "Dataset 2 is more spread out\n"
          ]
        }
      ]
    },
    {
      "cell_type": "code",
      "source": [
        "# 20. Write a Python program to visualize covariance using a heatmap\n",
        "import seaborn as sns\n",
        "\n",
        "df = pd.DataFrame({\n",
        "    'Math': np.random.randint(60, 100, 30),\n",
        "    'Science': np.random.randint(60, 100, 30),\n",
        "    'English': np.random.randint(60, 100, 30)\n",
        "})\n",
        "\n",
        "cov_matrix = df.cov()\n",
        "sns.heatmap(cov_matrix, annot=True, cmap='coolwarm')\n",
        "plt.title(\"Covariance Heatmap\")\n",
        "plt.show()\n"
      ],
      "metadata": {
        "colab": {
          "base_uri": "https://localhost:8080/",
          "height": 452
        },
        "id": "6Y0Bkua9iyAv",
        "outputId": "b1d8edd9-4260-4565-e4ea-89e92061b1b0"
      },
      "execution_count": 20,
      "outputs": [
        {
          "output_type": "display_data",
          "data": {
            "text/plain": [
              "<Figure size 640x480 with 2 Axes>"
            ],
            "image/png": "[encoded data removed]"
          },
          "metadata": {}
        }
      ]
    },
    {
      "cell_type": "code",
      "source": [
        "# 21. Use seaborn to create a correlation matrix for a dataset\n",
        "corr_matrix = df.corr()\n",
        "sns.heatmap(corr_matrix, annot=True, cmap='viridis')\n",
        "plt.title(\"Correlation Matrix\")\n",
        "plt.show()\n"
      ],
      "metadata": {
        "colab": {
          "base_uri": "https://localhost:8080/",
          "height": 452
        },
        "id": "IfllnpfBi0_j",
        "outputId": "c298541c-a399-4dde-d00e-d13f3b769e7b"
      },
      "execution_count": 21,
      "outputs": [
        {
          "output_type": "display_data",
          "data": {
            "text/plain": [
              "<Figure size 640x480 with 2 Axes>"
            ],
            "image/png": "[encoded data removed]"
          },
          "metadata": {}
        }
      ]
    },
    {
      "cell_type": "code",
      "source": [
        "# 22. Generate a dataset and implement both variance and standard deviation computations\n",
        "dataset = np.random.normal(loc=100, scale=20, size=50)\n",
        "variance = np.var(dataset)\n",
        "std_dev = np.std(dataset)\n",
        "\n",
        "print(\"Variance:\", variance)\n",
        "print(\"Standard Deviation:\", std_dev)\n"
      ],
      "metadata": {
        "colab": {
          "base_uri": "https://localhost:8080/"
        },
        "id": "ws9Jbe4ki6d1",
        "outputId": "e574241e-0b76-426c-dd1c-69f4a98bddf7"
      },
      "execution_count": 22,
      "outputs": [
        {
          "output_type": "stream",
          "name": "stdout",
          "text": [
            "Variance: 358.70494972923285\n",
            "Standard Deviation: 18.93950764220741\n"
          ]
        }
      ]
    },
    {
      "cell_type": "code",
      "source": [
        "# 23. Visualize skewness and kurtosis using matplotlib or seaborn\n",
        "from scipy.stats import skew, kurtosis\n",
        "\n",
        "sns.histplot(dataset, kde=True)\n",
        "plt.title(\"Distribution with Skewness and Kurtosis\")\n",
        "plt.show()\n",
        "\n",
        "print(\"Skewness:\", skew(dataset))\n",
        "print(\"Kurtosis:\", kurtosis(dataset))\n"
      ],
      "metadata": {
        "colab": {
          "base_uri": "https://localhost:8080/",
          "height": 487
        },
        "id": "oc2WquJLi95Q",
        "outputId": "d3e82db9-8245-4fa6-a051-6b1207b8a6b3"
      },
      "execution_count": 23,
      "outputs": [
        {
          "output_type": "display_data",
          "data": {
            "text/plain": [
              "<Figure size 640x480 with 1 Axes>"
            ],
            "image/png": "[encoded data removed]"
          },
          "metadata": {}
        },
        {
          "output_type": "stream",
          "name": "stdout",
          "text": [
            "Skewness: -0.16710757536976775\n",
            "Kurtosis: -0.6651720120508968\n"
          ]
        }
      ]
    },
    {
      "cell_type": "code",
      "source": [
        "# 24. Implement the Pearson and Spearman correlation coefficients for a dataset\n",
        "from scipy.stats import pearsonr, spearmanr\n",
        "\n",
        "x = np.random.randint(1, 100, 50)\n",
        "y = np.random.randint(1, 100, 50)\n",
        "\n",
        "pearson_corr, _ = pearsonr(x, y)\n",
        "spearman_corr, _ = spearmanr(x, y)\n",
        "\n",
        "print(\"Pearson Correlation Coefficient:\", pearson_corr)\n",
        "print(\"Spearman Correlation Coefficient:\", spearman_corr)\n"
      ],
      "metadata": {
        "colab": {
          "base_uri": "https://localhost:8080/"
        },
        "id": "kBlrjc-8jA96",
        "outputId": "85fbc2f2-234e-47ac-ae3b-e3ed9dd91684"
      },
      "execution_count": 24,
      "outputs": [
        {
          "output_type": "stream",
          "name": "stdout",
          "text": [
            "Pearson Correlation Coefficient: 0.10423931422210993\n",
            "Spearman Correlation Coefficient: 0.1862130290474997\n"
          ]
        }
      ]
    },
    {
      "cell_type": "code",
      "source": [],
      "metadata": {
        "id": "3oFHpRF7jEbh"
      },
      "execution_count": null,
      "outputs": []
    }
  ]
}